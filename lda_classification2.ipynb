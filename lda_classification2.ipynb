{
 "cells": [
  {
   "cell_type": "code",
   "execution_count": 1,
   "id": "d617d142",
   "metadata": {},
   "outputs": [
    {
     "name": "stderr",
     "output_type": "stream",
     "text": [
      "[nltk_data] Downloading package stopwords to\n",
      "[nltk_data]     /Users/maoyiting/nltk_data...\n",
      "[nltk_data]   Package stopwords is already up-to-date!\n"
     ]
    }
   ],
   "source": [
    "from sklearn.feature_extraction.text import CountVectorizer\n",
    "from sklearn.model_selection import train_test_split\n",
    "from sklearn.feature_extraction.text import TfidfVectorizer\n",
    "from sklearn.decomposition import PCA\n",
    "from sklearn.multiclass import OneVsRestClassifier\n",
    "#from nltk.corpus import stopwords\n",
    "#stop_words = set(stopwords.words('english'))\n",
    "import nltk\n",
    "nltk.download('stopwords')\n",
    "from sklearn.svm import LinearSVC\n",
    "from sklearn.pipeline import Pipeline\n",
    "from sklearn.metrics import accuracy_score, roc_curve, auc, hamming_loss\n",
    "from sklearn.preprocessing import MultiLabelBinarizer\n",
    "from sklearn.calibration import CalibratedClassifierCV\n",
    "from sklearn.decomposition import LatentDirichletAllocation\n",
    "import matplotlib.pyplot as plt\n",
    "import pandas as pd\n",
    "import numpy as np\n",
    "import pyLDAvis.sklearn\n",
    "import pyLDAvis\n",
    "import dask.bag as db\n",
    "import json\n",
    "import re\n",
    "import os\n",
    "os.environ[\"KMP_DUPLICATE_LIB_OK\"]=\"TRUE\""
   ]
  },
  {
   "cell_type": "markdown",
   "id": "cfbf6b23",
   "metadata": {},
   "source": [
    "# Data preprocessing"
   ]
  },
  {
   "cell_type": "markdown",
   "id": "b41300bc",
   "metadata": {},
   "source": [
    "For **multi-label classification** we will only need document id, categories and abstract. So let's exract those fields, discard everything else and convert to a pandas dataframe."
   ]
  },
  {
   "cell_type": "code",
   "execution_count": 2,
   "id": "756ea998",
   "metadata": {},
   "outputs": [],
   "source": [
    "SEED = 4\n",
    "docs = db.read_text('/Users/maoyiting/repository/M4R/arxiv-data/arxiv-metadata-oai-snapshot.json').map(json.loads)"
   ]
  },
  {
   "cell_type": "code",
   "execution_count": 5,
   "id": "ecfd7ba3",
   "metadata": {},
   "outputs": [],
   "source": [
    "# count total number\n",
    "#docs.count().compute()"
   ]
  },
  {
   "cell_type": "code",
   "execution_count": 3,
   "id": "d69a52f3",
   "metadata": {},
   "outputs": [],
   "source": [
    "# Submissions by datetime\n",
    "get_latest_version = lambda x: x['versions'][-1]['created']"
   ]
  },
  {
   "cell_type": "code",
   "execution_count": 4,
   "id": "96a776ec",
   "metadata": {},
   "outputs": [],
   "source": [
    "# get only necessary fields\n",
    "trim = lambda x: {'id': x['id'],\n",
    "                  'title': x['title'],\n",
    "                  'category':x['categories'].split(' '),\n",
    "                  'abstract':x['abstract']}\n",
    "\n",
    "# filter for papers published on or after 2021-01-01\n",
    "columns = ['id','category','abstract']\n",
    "docs_df = (docs\n",
    "             .filter(lambda x: int(get_latest_version(x).split(' ')[3]) > 2020)\n",
    "             .map(trim)\n",
    "             .compute())\n",
    "\n",
    "# convert to pandas\n",
    "docs_df = pd.DataFrame(docs_df)\n",
    "\n",
    "# add general category. we are going to use as our target variable\n",
    "docs_df['general_category'] = docs_df.category.apply(lambda x:[a.split('.')[0] for a in x])"
   ]
  },
  {
   "cell_type": "code",
   "execution_count": 5,
   "id": "68856638",
   "metadata": {},
   "outputs": [],
   "source": [
    "# filter for papers in 'math' or 'physics' area\n",
    "docs_df_2=docs_df[(docs_df.general_category.apply(lambda x: 'math' in x )==True)|(docs_df.general_category.apply(lambda x: 'physics' in x )==True)]"
   ]
  },
  {
   "cell_type": "code",
   "execution_count": 6,
   "id": "4be8692a",
   "metadata": {},
   "outputs": [],
   "source": [
    "# filter for papers only in 'math' or 'physics' area\n",
    "docs_df_3 = docs_df_2[(docs_df_2.general_category.apply(lambda x: len(x) )==1)]"
   ]
  },
  {
   "cell_type": "code",
   "execution_count": 7,
   "id": "2a037c0c",
   "metadata": {},
   "outputs": [
    {
     "data": {
      "text/html": [
       "<div>\n",
       "<style scoped>\n",
       "    .dataframe tbody tr th:only-of-type {\n",
       "        vertical-align: middle;\n",
       "    }\n",
       "\n",
       "    .dataframe tbody tr th {\n",
       "        vertical-align: top;\n",
       "    }\n",
       "\n",
       "    .dataframe thead th {\n",
       "        text-align: right;\n",
       "    }\n",
       "</style>\n",
       "<table border=\"1\" class=\"dataframe\">\n",
       "  <thead>\n",
       "    <tr style=\"text-align: right;\">\n",
       "      <th></th>\n",
       "      <th>id</th>\n",
       "      <th>title</th>\n",
       "      <th>category</th>\n",
       "      <th>abstract</th>\n",
       "      <th>general_category</th>\n",
       "    </tr>\n",
       "  </thead>\n",
       "  <tbody>\n",
       "    <tr>\n",
       "      <th>1</th>\n",
       "      <td>0706.2239</td>\n",
       "      <td>Infinitesimal Castelnuovo Theory in Abelian Va...</td>\n",
       "      <td>[math.AG]</td>\n",
       "      <td>The purpose of this article is to show that ...</td>\n",
       "      <td>[math]</td>\n",
       "    </tr>\n",
       "    <tr>\n",
       "      <th>4</th>\n",
       "      <td>0707.4657</td>\n",
       "      <td>The Informational Conception and Basic Physics</td>\n",
       "      <td>[physics.gen-ph]</td>\n",
       "      <td>In our previous arXiv papers (\"The Informati...</td>\n",
       "      <td>[physics]</td>\n",
       "    </tr>\n",
       "    <tr>\n",
       "      <th>5</th>\n",
       "      <td>0709.2797</td>\n",
       "      <td>Comments On \" Orbits of automorphism groups of...</td>\n",
       "      <td>[math.AC]</td>\n",
       "      <td>Let $R$ be a commutative $k-$algebra over a ...</td>\n",
       "      <td>[math]</td>\n",
       "    </tr>\n",
       "    <tr>\n",
       "      <th>6</th>\n",
       "      <td>0710.1594</td>\n",
       "      <td>Time Dilation and the Equivalence of Inertial ...</td>\n",
       "      <td>[physics.gen-ph]</td>\n",
       "      <td>It is well known that simultaneity within an...</td>\n",
       "      <td>[physics]</td>\n",
       "    </tr>\n",
       "    <tr>\n",
       "      <th>7</th>\n",
       "      <td>0710.2625</td>\n",
       "      <td>On two problems concerning topological centers</td>\n",
       "      <td>[math.DS]</td>\n",
       "      <td>Let G be an infinite discrete group and bG i...</td>\n",
       "      <td>[math]</td>\n",
       "    </tr>\n",
       "    <tr>\n",
       "      <th>...</th>\n",
       "      <td>...</td>\n",
       "      <td>...</td>\n",
       "      <td>...</td>\n",
       "      <td>...</td>\n",
       "      <td>...</td>\n",
       "    </tr>\n",
       "    <tr>\n",
       "      <th>176328</th>\n",
       "      <td>physics/0505086</td>\n",
       "      <td>Social Behaviour of Agents: Capital Markets an...</td>\n",
       "      <td>[physics.soc-ph]</td>\n",
       "      <td>We study social behaviour of agents on capit...</td>\n",
       "      <td>[physics]</td>\n",
       "    </tr>\n",
       "    <tr>\n",
       "      <th>176329</th>\n",
       "      <td>physics/0507085</td>\n",
       "      <td>Dynamics under radiation damping from ab-initi...</td>\n",
       "      <td>[physics.class-ph]</td>\n",
       "      <td>Classically encountered problem of accelerat...</td>\n",
       "      <td>[physics]</td>\n",
       "    </tr>\n",
       "    <tr>\n",
       "      <th>176330</th>\n",
       "      <td>physics/0512036</td>\n",
       "      <td>Attempt at clarification of Einstein's postula...</td>\n",
       "      <td>[physics.gen-ph]</td>\n",
       "      <td>We have realized that under Lorentz transfor...</td>\n",
       "      <td>[physics]</td>\n",
       "    </tr>\n",
       "    <tr>\n",
       "      <th>176331</th>\n",
       "      <td>physics/0609099</td>\n",
       "      <td>Derivation of Coulomb's law based on a mechani...</td>\n",
       "      <td>[physics.gen-ph]</td>\n",
       "      <td>We suppose that vacuum is filled with a kind...</td>\n",
       "      <td>[physics]</td>\n",
       "    </tr>\n",
       "    <tr>\n",
       "      <th>176332</th>\n",
       "      <td>physics/0701101</td>\n",
       "      <td>Submitting Jobs on Grid</td>\n",
       "      <td>[physics.comp-ph]</td>\n",
       "      <td>This is an user's introduction to grid using...</td>\n",
       "      <td>[physics]</td>\n",
       "    </tr>\n",
       "  </tbody>\n",
       "</table>\n",
       "<p>25204 rows × 5 columns</p>\n",
       "</div>"
      ],
      "text/plain": [
       "                     id                                              title  \\\n",
       "1             0706.2239  Infinitesimal Castelnuovo Theory in Abelian Va...   \n",
       "4             0707.4657     The Informational Conception and Basic Physics   \n",
       "5             0709.2797  Comments On \" Orbits of automorphism groups of...   \n",
       "6             0710.1594  Time Dilation and the Equivalence of Inertial ...   \n",
       "7             0710.2625     On two problems concerning topological centers   \n",
       "...                 ...                                                ...   \n",
       "176328  physics/0505086  Social Behaviour of Agents: Capital Markets an...   \n",
       "176329  physics/0507085  Dynamics under radiation damping from ab-initi...   \n",
       "176330  physics/0512036  Attempt at clarification of Einstein's postula...   \n",
       "176331  physics/0609099  Derivation of Coulomb's law based on a mechani...   \n",
       "176332  physics/0701101                            Submitting Jobs on Grid   \n",
       "\n",
       "                  category                                           abstract  \\\n",
       "1                [math.AG]    The purpose of this article is to show that ...   \n",
       "4         [physics.gen-ph]    In our previous arXiv papers (\"The Informati...   \n",
       "5                [math.AC]    Let $R$ be a commutative $k-$algebra over a ...   \n",
       "6         [physics.gen-ph]    It is well known that simultaneity within an...   \n",
       "7                [math.DS]    Let G be an infinite discrete group and bG i...   \n",
       "...                    ...                                                ...   \n",
       "176328    [physics.soc-ph]    We study social behaviour of agents on capit...   \n",
       "176329  [physics.class-ph]    Classically encountered problem of accelerat...   \n",
       "176330    [physics.gen-ph]    We have realized that under Lorentz transfor...   \n",
       "176331    [physics.gen-ph]    We suppose that vacuum is filled with a kind...   \n",
       "176332   [physics.comp-ph]    This is an user's introduction to grid using...   \n",
       "\n",
       "       general_category  \n",
       "1                [math]  \n",
       "4             [physics]  \n",
       "5                [math]  \n",
       "6             [physics]  \n",
       "7                [math]  \n",
       "...                 ...  \n",
       "176328        [physics]  \n",
       "176329        [physics]  \n",
       "176330        [physics]  \n",
       "176331        [physics]  \n",
       "176332        [physics]  \n",
       "\n",
       "[25204 rows x 5 columns]"
      ]
     },
     "execution_count": 7,
     "metadata": {},
     "output_type": "execute_result"
    }
   ],
   "source": [
    "docs_df_3"
   ]
  },
  {
   "cell_type": "code",
   "execution_count": 8,
   "id": "f06d70b4",
   "metadata": {},
   "outputs": [
    {
     "data": {
      "text/plain": [
       "array([[1, 0],\n",
       "       [0, 1],\n",
       "       [1, 0],\n",
       "       ...,\n",
       "       [0, 1],\n",
       "       [0, 1],\n",
       "       [0, 1]])"
      ]
     },
     "execution_count": 8,
     "metadata": {},
     "output_type": "execute_result"
    }
   ],
   "source": [
    "# convert general category into label columns\n",
    "mlb = MultiLabelBinarizer()\n",
    "labels = mlb.fit_transform(docs_df_3.general_category)\n",
    "labels"
   ]
  },
  {
   "cell_type": "code",
   "execution_count": 9,
   "id": "9e04b610",
   "metadata": {},
   "outputs": [
    {
     "data": {
      "text/html": [
       "<div>\n",
       "<style scoped>\n",
       "    .dataframe tbody tr th:only-of-type {\n",
       "        vertical-align: middle;\n",
       "    }\n",
       "\n",
       "    .dataframe tbody tr th {\n",
       "        vertical-align: top;\n",
       "    }\n",
       "\n",
       "    .dataframe thead th {\n",
       "        text-align: right;\n",
       "    }\n",
       "</style>\n",
       "<table border=\"1\" class=\"dataframe\">\n",
       "  <thead>\n",
       "    <tr style=\"text-align: right;\">\n",
       "      <th></th>\n",
       "      <th>abstract</th>\n",
       "      <th>title</th>\n",
       "      <th>math</th>\n",
       "      <th>physics</th>\n",
       "    </tr>\n",
       "  </thead>\n",
       "  <tbody>\n",
       "    <tr>\n",
       "      <th>0</th>\n",
       "      <td>The purpose of this article is to show that ...</td>\n",
       "      <td>Infinitesimal Castelnuovo Theory in Abelian Va...</td>\n",
       "      <td>1</td>\n",
       "      <td>0</td>\n",
       "    </tr>\n",
       "    <tr>\n",
       "      <th>1</th>\n",
       "      <td>In our previous arXiv papers (\"The Informati...</td>\n",
       "      <td>The Informational Conception and Basic Physics</td>\n",
       "      <td>0</td>\n",
       "      <td>1</td>\n",
       "    </tr>\n",
       "    <tr>\n",
       "      <th>2</th>\n",
       "      <td>Let $R$ be a commutative $k-$algebra over a ...</td>\n",
       "      <td>Comments On \" Orbits of automorphism groups of...</td>\n",
       "      <td>1</td>\n",
       "      <td>0</td>\n",
       "    </tr>\n",
       "    <tr>\n",
       "      <th>3</th>\n",
       "      <td>It is well known that simultaneity within an...</td>\n",
       "      <td>Time Dilation and the Equivalence of Inertial ...</td>\n",
       "      <td>0</td>\n",
       "      <td>1</td>\n",
       "    </tr>\n",
       "    <tr>\n",
       "      <th>4</th>\n",
       "      <td>Let G be an infinite discrete group and bG i...</td>\n",
       "      <td>On two problems concerning topological centers</td>\n",
       "      <td>1</td>\n",
       "      <td>0</td>\n",
       "    </tr>\n",
       "  </tbody>\n",
       "</table>\n",
       "</div>"
      ],
      "text/plain": [
       "                                            abstract  \\\n",
       "0    The purpose of this article is to show that ...   \n",
       "1    In our previous arXiv papers (\"The Informati...   \n",
       "2    Let $R$ be a commutative $k-$algebra over a ...   \n",
       "3    It is well known that simultaneity within an...   \n",
       "4    Let G be an infinite discrete group and bG i...   \n",
       "\n",
       "                                               title  math  physics  \n",
       "0  Infinitesimal Castelnuovo Theory in Abelian Va...     1        0  \n",
       "1     The Informational Conception and Basic Physics     0        1  \n",
       "2  Comments On \" Orbits of automorphism groups of...     1        0  \n",
       "3  Time Dilation and the Equivalence of Inertial ...     0        1  \n",
       "4     On two problems concerning topological centers     1        0  "
      ]
     },
     "execution_count": 9,
     "metadata": {},
     "output_type": "execute_result"
    }
   ],
   "source": [
    "# concatenate with the abstracts\n",
    "df = pd.concat([docs_df_3[['abstract','title']].reset_index(drop=True), pd.DataFrame(labels)], axis=1)\n",
    "df.columns = ['abstract','title'] + list(mlb.classes_)\n",
    "df.head(5)"
   ]
  },
  {
   "cell_type": "code",
   "execution_count": 10,
   "id": "41b176a3",
   "metadata": {},
   "outputs": [
    {
     "name": "stdout",
     "output_type": "stream",
     "text": [
      "Removed following categories from training : []\n"
     ]
    }
   ],
   "source": [
    "# sample and keep columns that have at least 1 positive example\n",
    "sample_df = df.sample(frac = 1, random_state = 4)\n",
    "keep = sample_df.iloc[:,2:].apply(sum) > 1\n",
    "sample_df = pd.concat([sample_df.iloc[:,:2],sample_df.iloc[:,2:].iloc[:,keep.values]], axis = 1)\n",
    "\n",
    "categories = sample_df.columns[2:]\n",
    "\n",
    "# removed categories\n",
    "print('Removed following categories from training : {}'.format(str(keep[~keep].index.to_list())))"
   ]
  },
  {
   "cell_type": "code",
   "execution_count": 28,
   "id": "dd5ff19d",
   "metadata": {},
   "outputs": [
    {
     "name": "stdout",
     "output_type": "stream",
     "text": [
      "11840     A flow view is the graph of a measurable conj...\n",
      "18558     Large scale simulations of the wave equation ...\n",
      "19456     In this manuscript we investigate the analoug...\n",
      "1613      We introduce random towers to study almost su...\n",
      "20605     A locally finite multiset \\Lambda c \\Lambda \\...\n",
      "                               ...                        \n",
      "11863     In this article we deal with the free Banach ...\n",
      "22401     An earlier version of this paper constructed ...\n",
      "17093     We introduce a neural network architecture to...\n",
      "8366      Ehrhart polynomials are extensively studied s...\n",
      "17530     We present important characterizations of the...\n",
      "Name: cut, Length: 25204, dtype: object\n"
     ]
    }
   ],
   "source": [
    "pattern = u'[\\\\s\\\\d,.<>/?:;\\'\\\"[\\\\]{}()\\\\|~!\\t\"@#$%^&*\\\\-_=+\\n《》、？：；“”‘’｛}（）…￥！—┄－]+'\n",
    "sample_df['cut'] = (\n",
    "    sample_df['abstract']\n",
    "    .apply(lambda x: str(x))\n",
    "    .apply(lambda x: re.sub(pattern, ' ', x))\n",
    ")\n",
    "print(sample_df['cut'])"
   ]
  },
  {
   "cell_type": "markdown",
   "id": "6fbdccfb",
   "metadata": {},
   "source": [
    "# Topic extraction with LatentDirichletAllocation"
   ]
  },
  {
   "cell_type": "code",
   "execution_count": 14,
   "id": "e9233ff2",
   "metadata": {},
   "outputs": [],
   "source": [
    "# 文本 csv 文件，可以是本地文件，也可以是远程文件\n",
    "#source_csv_path = 'answers.csv'\n",
    "\n",
    "# 文本 csv 文件里面文本所处的列名,注意这里一定要填对，要不然会报错的！\n",
    "#document_column_name = '回答内容'\n",
    "\n",
    "# output path: top words\n",
    "top_words_csv_path = 'top-topic-words.csv'\n",
    "\n",
    "# output path: predict topic\n",
    "predict_topic_csv_path = 'document-distribution.csv'\n",
    "\n",
    "# 可视化 html 文件路径\n",
    "html_path = 'document-lda-visualization.html'\n",
    "\n",
    "# 选定的主题数\n",
    "n_topics = 2\n",
    "\n",
    "# 要输出的每个主题的前 n_top_words 个主题词数\n",
    "n_top_words = 10"
   ]
  },
  {
   "cell_type": "code",
   "execution_count": 15,
   "id": "9a8548c5",
   "metadata": {},
   "outputs": [],
   "source": [
    "def top_words_data_frame(model: LatentDirichletAllocation,\n",
    "                         tf_idf_vectorizer: TfidfVectorizer,\n",
    "                         n_top_words: int) -> pd.DataFrame:\n",
    "    '''\n",
    "    求出每个主题的前 n_top_words 个词\n",
    "\n",
    "    Parameters\n",
    "    ----------\n",
    "    model : sklearn 的 LatentDirichletAllocation \n",
    "    tf_idf_vectorizer : sklearn 的 TfidfVectorizer\n",
    "    n_top_words :前 n_top_words 个主题词\n",
    "\n",
    "    Return\n",
    "    ------\n",
    "    DataFrame: 包含主题词分布情况\n",
    "    '''\n",
    "    rows = []\n",
    "    feature_names = tf_idf_vectorizer.get_feature_names()\n",
    "    for topic in model.components_:\n",
    "        top_words = [feature_names[i]\n",
    "                     for i in topic.argsort()[:-n_top_words - 1:-1]]\n",
    "        rows.append(top_words)\n",
    "    columns = [f'topic {i+1}' for i in range(n_top_words)]\n",
    "    df = pd.DataFrame(rows, columns=columns)\n",
    "\n",
    "    return df"
   ]
  },
  {
   "cell_type": "code",
   "execution_count": 16,
   "id": "fb332319",
   "metadata": {},
   "outputs": [],
   "source": [
    "def predict_to_data_frame(model: LatentDirichletAllocation, X: np.ndarray) -> pd.DataFrame:\n",
    "    '''\n",
    "    求出文档主题概率分布情况\n",
    "\n",
    "    Parameters\n",
    "    ----------\n",
    "    model : sklearn 的 LatentDirichletAllocation \n",
    "    X : 词向量矩阵\n",
    "\n",
    "    Return\n",
    "    ------\n",
    "    DataFrame: 包含主题词分布情况\n",
    "    '''\n",
    "    # 求出给定文档的主题概率分布矩阵\n",
    "    matrix = model.transform(X)\n",
    "    columns = [f'P(topic {i+1})' for i in range(len(model.components_))]\n",
    "    df = pd.DataFrame(matrix, columns=columns)\n",
    "    \n",
    "    return df"
   ]
  },
  {
   "cell_type": "code",
   "execution_count": 17,
   "id": "2b2a2560",
   "metadata": {},
   "outputs": [],
   "source": [
    "def plot_top_words(model, feature_names, n_top_words, title):\n",
    "    fig, axes = plt.subplots(1, 2, figsize=(30, 15), sharex=True)\n",
    "    axes = axes.flatten()\n",
    "    for topic_idx, topic in enumerate(model.components_):\n",
    "        top_features_ind = topic.argsort()[: -n_top_words - 1 : -1]\n",
    "        top_features = [feature_names[i] for i in top_features_ind]\n",
    "        weights = topic[top_features_ind]\n",
    "\n",
    "        ax = axes[topic_idx]\n",
    "        ax.barh(top_features, weights, height=0.7)\n",
    "        ax.set_title(f\"Topic {topic_idx +1}\", fontdict={\"fontsize\": 30})\n",
    "        ax.invert_yaxis()\n",
    "        ax.tick_params(axis=\"both\", which=\"major\", labelsize=20)\n",
    "        for i in \"top right left\".split():\n",
    "            ax.spines[i].set_visible(False)\n",
    "        fig.suptitle(title, fontsize=40)\n",
    "\n",
    "    plt.subplots_adjust(top=0.90, bottom=0.05, wspace=0.90, hspace=0.3)\n",
    "    plt.show()"
   ]
  },
  {
   "cell_type": "markdown",
   "id": "9098ca5f",
   "metadata": {},
   "source": [
    "在CountVectorizer中，每个文本的各维度值是特征词在文本中的出现次数，今天介绍的TfidfVectorizer，每个文本的各维度值是特征词的Tfidf值。区别很明显，除了考虑特征词在文本中的出现次数外，还考虑了词语在文档集中的分布情况（也就是idf值）。TfidfVectorizer我们已经在baiziyu：文本分类示例1——英文新闻文本分类 这篇文章中应用过了，大家可以查看示例代码。从上边的介绍不难看出，TfidfVectorizer和CountVectorizer的区别不是很大，两个类的参数、属性以及方法都是差不多的"
   ]
  },
  {
   "cell_type": "code",
   "execution_count": 18,
   "id": "682c25a9",
   "metadata": {},
   "outputs": [
    {
     "name": "stdout",
     "output_type": "stream",
     "text": [
      "        aa  aaa  aapm   ab  abaca  abandon  abandoned  abbreviate  \\\n",
      "0      0.0  0.0   0.0  0.0    0.0      0.0        0.0         0.0   \n",
      "1      0.0  0.0   0.0  0.0    0.0      0.0        0.0         0.0   \n",
      "2      0.0  0.0   0.0  0.0    0.0      0.0        0.0         0.0   \n",
      "3      0.0  0.0   0.0  0.0    0.0      0.0        0.0         0.0   \n",
      "4      0.0  0.0   0.0  0.0    0.0      0.0        0.0         0.0   \n",
      "...    ...  ...   ...  ...    ...      ...        ...         ...   \n",
      "25199  0.0  0.0   0.0  0.0    0.0      0.0        0.0         0.0   \n",
      "25200  0.0  0.0   0.0  0.0    0.0      0.0        0.0         0.0   \n",
      "25201  0.0  0.0   0.0  0.0    0.0      0.0        0.0         0.0   \n",
      "25202  0.0  0.0   0.0  0.0    0.0      0.0        0.0         0.0   \n",
      "25203  0.0  0.0   0.0  0.0    0.0      0.0        0.0         0.0   \n",
      "\n",
      "       abbreviated  abbreviation  ...  zuazua  zudilin  zundel  zunger  \\\n",
      "0              0.0           0.0  ...     0.0      0.0     0.0     0.0   \n",
      "1              0.0           0.0  ...     0.0      0.0     0.0     0.0   \n",
      "2              0.0           0.0  ...     0.0      0.0     0.0     0.0   \n",
      "3              0.0           0.0  ...     0.0      0.0     0.0     0.0   \n",
      "4              0.0           0.0  ...     0.0      0.0     0.0     0.0   \n",
      "...            ...           ...  ...     ...      ...     ...     ...   \n",
      "25199          0.0           0.0  ...     0.0      0.0     0.0     0.0   \n",
      "25200          0.0           0.0  ...     0.0      0.0     0.0     0.0   \n",
      "25201          0.0           0.0  ...     0.0      0.0     0.0     0.0   \n",
      "25202          0.0           0.0  ...     0.0      0.0     0.0     0.0   \n",
      "25203          0.0           0.0  ...     0.0      0.0     0.0     0.0   \n",
      "\n",
      "       zvonkin  zwanzig   zx   zy  zygmund   zz  \n",
      "0          0.0      0.0  0.0  0.0      0.0  0.0  \n",
      "1          0.0      0.0  0.0  0.0      0.0  0.0  \n",
      "2          0.0      0.0  0.0  0.0      0.0  0.0  \n",
      "3          0.0      0.0  0.0  0.0      0.0  0.0  \n",
      "4          0.0      0.0  0.0  0.0      0.0  0.0  \n",
      "...        ...      ...  ...  ...      ...  ...  \n",
      "25199      0.0      0.0  0.0  0.0      0.0  0.0  \n",
      "25200      0.0      0.0  0.0  0.0      0.0  0.0  \n",
      "25201      0.0      0.0  0.0  0.0      0.0  0.0  \n",
      "25202      0.0      0.0  0.0  0.0      0.0  0.0  \n",
      "25203      0.0      0.0  0.0  0.0      0.0  0.0  \n",
      "\n",
      "[25204 rows x 24546 columns]\n"
     ]
    }
   ],
   "source": [
    "# construct TF-IDF\n",
    "tf_idf_vectorizer = TfidfVectorizer(max_df=0.95, min_df=2, stop_words=\"english\")\n",
    "tf_idf = tf_idf_vectorizer.fit_transform(sample_df['cut'])\n",
    "\n",
    "# list of feature names\n",
    "feature_names = tf_idf_vectorizer.get_feature_names()\n",
    "\n",
    "# feature names TF-IDF matrix\n",
    "matrix = tf_idf.toarray()\n",
    "feature_names_df = pd.DataFrame(matrix,columns=feature_names)\n",
    "\n",
    "print(feature_names_df)"
   ]
  },
  {
   "cell_type": "code",
   "execution_count": 19,
   "id": "b5de094d",
   "metadata": {},
   "outputs": [
    {
     "name": "stdout",
     "output_type": "stream",
     "text": [
      "LatentDirichletAllocation(learning_method='online', learning_offset=50.0,\n",
      "                          max_iter=50, n_components=2, random_state=0)\n"
     ]
    }
   ],
   "source": [
    "lda = LatentDirichletAllocation(\n",
    "    n_components=n_topics, max_iter=50,\n",
    "    learning_method='online',\n",
    "    learning_offset=50.,\n",
    "    random_state=0)\n",
    "print(lda)"
   ]
  },
  {
   "cell_type": "code",
   "execution_count": 20,
   "id": "b1e57ba6",
   "metadata": {},
   "outputs": [
    {
     "data": {
      "text/plain": [
       "LatentDirichletAllocation(learning_method='online', learning_offset=50.0,\n",
       "                          max_iter=50, n_components=2, random_state=0)"
      ]
     },
     "execution_count": 20,
     "metadata": {},
     "output_type": "execute_result"
    }
   ],
   "source": [
    "# 使用 tf_idf 语料训练 lda 模型\n",
    "# train\n",
    "lda.fit(tf_idf)"
   ]
  },
  {
   "cell_type": "code",
   "execution_count": 23,
   "id": "a8eef740",
   "metadata": {},
   "outputs": [],
   "source": [
    "# 计算 n_top_words 个主题词\n",
    "top_words_df = top_words_data_frame(lda, tf_idf_vectorizer, n_top_words)\n",
    "\n",
    "# 保存 n_top_words 个主题词到 csv 文件中\n",
    "top_words_df.to_csv(top_words_csv_path, encoding='utf-8-sig', index=None)\n",
    "\n",
    "# 转 tf_idf 为数组，以便后面使用它来对文本主题概率分布进行计算\n",
    "X = tf_idf.toarray()\n",
    "\n",
    "# 计算完毕主题概率分布情况\n",
    "predict_df = predict_to_data_frame(lda, X)\n",
    "\n",
    "# 保存文本主题概率分布到 csv 文件中\n",
    "predict_df.to_csv(predict_topic_csv_path, encoding='utf-8-sig', index=None)\n",
    "\n",
    "# 使用 pyLDAvis 进行可视化\n",
    "data = pyLDAvis.sklearn.prepare(lda, tf_idf, tf_idf_vectorizer)\n",
    "pyLDAvis.save_html(data, html_path)\n",
    "\n",
    "# 清屏\n",
    "#os.system('clear')\n",
    "\n",
    "# 浏览器打开 html 文件以查看可视化结果\n",
    "#os.system(f'start {html_path}')"
   ]
  },
  {
   "cell_type": "code",
   "execution_count": 30,
   "id": "b1e01732",
   "metadata": {},
   "outputs": [
    {
     "data": {
      "text/plain": [
       "array([3.23719338, 0.33898374, 0.28806446, ..., 0.67273375, 8.76020255,\n",
       "       0.97000691])"
      ]
     },
     "execution_count": 30,
     "metadata": {},
     "output_type": "execute_result"
    }
   ],
   "source": [
    "sum(X)"
   ]
  },
  {
   "cell_type": "code",
   "execution_count": 24,
   "id": "c6b2e059",
   "metadata": {},
   "outputs": [
    {
     "data": {
      "image/png": "[encoded data removed]",
      "text/plain": [
       "<Figure size 2160x1080 with 2 Axes>"
      ]
     },
     "metadata": {
      "needs_background": "light"
     },
     "output_type": "display_data"
    }
   ],
   "source": [
    "plot_top_words(lda, feature_names, n_top_words, \"Topics in LDA model\")"
   ]
  },
  {
   "cell_type": "code",
   "execution_count": 74,
   "id": "aa745362",
   "metadata": {},
   "outputs": [
    {
     "name": "stdout",
     "output_type": "stream",
     "text": [
      "(21423,)\n",
      "(3781,)\n"
     ]
    }
   ],
   "source": [
    "# split into train and test\n",
    "train, test = train_test_split(sample_df, random_state=76, test_size=0.15, shuffle=True)\n",
    "\n",
    "X_train = train.abstract\n",
    "X_test = test.abstract\n",
    "\n",
    "print(X_train.shape)\n",
    "print(X_test.shape)"
   ]
  },
  {
   "cell_type": "code",
   "execution_count": 75,
   "id": "798dc4a4",
   "metadata": {},
   "outputs": [],
   "source": [
    "test.to_json('validation.json')"
   ]
  },
  {
   "cell_type": "code",
   "execution_count": 76,
   "id": "2c703a8c",
   "metadata": {},
   "outputs": [
    {
     "data": {
      "text/plain": [
       "8857       Let $N(\\sigma,T)$ denote the number of nontr...\n",
       "3662       The free electron model with Boltzmann stati...\n",
       "11067      We exhibit a new decomposition of the nonlin...\n",
       "2911       We exploit a recently developed funnel contr...\n",
       "5529       We investigate which higher rank simple Lie ...\n",
       "                               ...                        \n",
       "1761       Let $\\gamma_{-1}$ be the absolutely continuo...\n",
       "8506       In continuation of the paper [3], we discuss...\n",
       "13840      The superspace ring $\\Omega_n$ is a rank $n$...\n",
       "10846      In this article, we give a new class of auto...\n",
       "24850      This work looks at the theory of octonionic ...\n",
       "Name: abstract, Length: 3781, dtype: object"
      ]
     },
     "execution_count": 76,
     "metadata": {},
     "output_type": "execute_result"
    }
   ],
   "source": [
    "X_test"
   ]
  },
  {
   "cell_type": "code",
   "execution_count": null,
   "id": "c69d8e08",
   "metadata": {},
   "outputs": [],
   "source": []
  }
 ],
 "metadata": {
  "interpreter": {
   "hash": "e73c40029d9fab2ff6f6070b029194bedbefdf32b567b88fe9865bcf0cb3c719"
  },
  "kernelspec": {
   "display_name": "Python 3.9.7 64-bit ('m4r_venv': venv)",
   "name": "python3"
  },
  "language_info": {
   "codemirror_mode": {
    "name": "ipython",
    "version": 3
   },
   "file_extension": ".py",
   "mimetype": "text/x-python",
   "name": "python",
   "nbconvert_exporter": "python",
   "pygments_lexer": "ipython3",
   "version": "3.9.7"
  }
 },
 "nbformat": 4,
 "nbformat_minor": 5
}
