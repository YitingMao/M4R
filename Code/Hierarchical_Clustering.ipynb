{
  "nbformat": 4,
  "nbformat_minor": 0,
  "metadata": {
    "colab": {
      "name": "Hierarchical Clustering.ipynb",
      "provenance": []
    },
    "kernelspec": {
      "name": "python3",
      "display_name": "Python 3"
    },
    "language_info": {
      "name": "python"
    },
    "accelerator": "GPU"
  },
  "cells": [
    {
      "cell_type": "code",
      "source": [
        "!pip install transformers\n",
        "!pip install kaggle\n",
        "!pip install 'fsspec>=0.3.3'"
      ],
      "metadata": {
        "colab": {
          "base_uri": "https://localhost:8080/"
        },
        "id": "rbYxkuDknXzq",
        "outputId": "76f2c4e5-de7c-4b16-fa3a-ecf72baef572"
      },
      "execution_count": null,
      "outputs": [
        {
          "output_type": "stream",
          "name": "stdout",
          "text": [
            "Looking in indexes: https://pypi.org/simple, https://us-python.pkg.dev/colab-wheels/public/simple/\n",
            "Collecting transformers\n",
            "  Downloading transformers-4.19.4-py3-none-any.whl (4.2 MB)\n",
            "\u001b[K     |████████████████████████████████| 4.2 MB 2.2 MB/s \n",
            "\u001b[?25hRequirement already satisfied: requests in /usr/local/lib/python3.7/dist-packages (from transformers) (2.23.0)\n",
            "Requirement already satisfied: filelock in /usr/local/lib/python3.7/dist-packages (from transformers) (3.7.0)\n",
            "Collecting huggingface-hub<1.0,>=0.1.0\n",
            "  Downloading huggingface_hub-0.7.0-py3-none-any.whl (86 kB)\n",
            "\u001b[K     |████████████████████████████████| 86 kB 5.0 MB/s \n",
            "\u001b[?25hCollecting pyyaml>=5.1\n",
            "  Downloading PyYAML-6.0-cp37-cp37m-manylinux_2_5_x86_64.manylinux1_x86_64.manylinux_2_12_x86_64.manylinux2010_x86_64.whl (596 kB)\n",
            "\u001b[K     |████████████████████████████████| 596 kB 50.9 MB/s \n",
            "\u001b[?25hRequirement already satisfied: regex!=2019.12.17 in /usr/local/lib/python3.7/dist-packages (from transformers) (2019.12.20)\n",
            "Requirement already satisfied: tqdm>=4.27 in /usr/local/lib/python3.7/dist-packages (from transformers) (4.64.0)\n",
            "Requirement already satisfied: importlib-metadata in /usr/local/lib/python3.7/dist-packages (from transformers) (4.11.4)\n",
            "Requirement already satisfied: numpy>=1.17 in /usr/local/lib/python3.7/dist-packages (from transformers) (1.21.6)\n",
            "Collecting tokenizers!=0.11.3,<0.13,>=0.11.1\n",
            "  Downloading tokenizers-0.12.1-cp37-cp37m-manylinux_2_12_x86_64.manylinux2010_x86_64.whl (6.6 MB)\n",
            "\u001b[K     |████████████████████████████████| 6.6 MB 27.3 MB/s \n",
            "\u001b[?25hRequirement already satisfied: packaging>=20.0 in /usr/local/lib/python3.7/dist-packages (from transformers) (21.3)\n",
            "Requirement already satisfied: typing-extensions>=3.7.4.3 in /usr/local/lib/python3.7/dist-packages (from huggingface-hub<1.0,>=0.1.0->transformers) (4.2.0)\n",
            "Requirement already satisfied: pyparsing!=3.0.5,>=2.0.2 in /usr/local/lib/python3.7/dist-packages (from packaging>=20.0->transformers) (3.0.9)\n",
            "Requirement already satisfied: zipp>=0.5 in /usr/local/lib/python3.7/dist-packages (from importlib-metadata->transformers) (3.8.0)\n",
            "Requirement already satisfied: chardet<4,>=3.0.2 in /usr/local/lib/python3.7/dist-packages (from requests->transformers) (3.0.4)\n",
            "Requirement already satisfied: urllib3!=1.25.0,!=1.25.1,<1.26,>=1.21.1 in /usr/local/lib/python3.7/dist-packages (from requests->transformers) (1.24.3)\n",
            "Requirement already satisfied: certifi>=2017.4.17 in /usr/local/lib/python3.7/dist-packages (from requests->transformers) (2022.5.18.1)\n",
            "Requirement already satisfied: idna<3,>=2.5 in /usr/local/lib/python3.7/dist-packages (from requests->transformers) (2.10)\n",
            "Installing collected packages: pyyaml, tokenizers, huggingface-hub, transformers\n",
            "  Attempting uninstall: pyyaml\n",
            "    Found existing installation: PyYAML 3.13\n",
            "    Uninstalling PyYAML-3.13:\n",
            "      Successfully uninstalled PyYAML-3.13\n",
            "Successfully installed huggingface-hub-0.7.0 pyyaml-6.0 tokenizers-0.12.1 transformers-4.19.4\n",
            "Looking in indexes: https://pypi.org/simple, https://us-python.pkg.dev/colab-wheels/public/simple/\n",
            "Requirement already satisfied: kaggle in /usr/local/lib/python3.7/dist-packages (1.5.12)\n",
            "Requirement already satisfied: urllib3 in /usr/local/lib/python3.7/dist-packages (from kaggle) (1.24.3)\n",
            "Requirement already satisfied: tqdm in /usr/local/lib/python3.7/dist-packages (from kaggle) (4.64.0)\n",
            "Requirement already satisfied: six>=1.10 in /usr/local/lib/python3.7/dist-packages (from kaggle) (1.15.0)\n",
            "Requirement already satisfied: certifi in /usr/local/lib/python3.7/dist-packages (from kaggle) (2022.5.18.1)\n",
            "Requirement already satisfied: requests in /usr/local/lib/python3.7/dist-packages (from kaggle) (2.23.0)\n",
            "Requirement already satisfied: python-slugify in /usr/local/lib/python3.7/dist-packages (from kaggle) (6.1.2)\n",
            "Requirement already satisfied: python-dateutil in /usr/local/lib/python3.7/dist-packages (from kaggle) (2.8.2)\n",
            "Requirement already satisfied: text-unidecode>=1.3 in /usr/local/lib/python3.7/dist-packages (from python-slugify->kaggle) (1.3)\n",
            "Requirement already satisfied: idna<3,>=2.5 in /usr/local/lib/python3.7/dist-packages (from requests->kaggle) (2.10)\n",
            "Requirement already satisfied: chardet<4,>=3.0.2 in /usr/local/lib/python3.7/dist-packages (from requests->kaggle) (3.0.4)\n",
            "Looking in indexes: https://pypi.org/simple, https://us-python.pkg.dev/colab-wheels/public/simple/\n",
            "Collecting fsspec>=0.3.3\n",
            "  Downloading fsspec-2022.5.0-py3-none-any.whl (140 kB)\n",
            "\u001b[K     |████████████████████████████████| 140 kB 4.3 MB/s \n",
            "\u001b[?25hInstalling collected packages: fsspec\n",
            "Successfully installed fsspec-2022.5.0\n"
          ]
        }
      ]
    },
    {
      "cell_type": "code",
      "execution_count": null,
      "metadata": {
        "colab": {
          "base_uri": "https://localhost:8080/"
        },
        "id": "ITqGgy2NdeF9",
        "outputId": "cc5d2fe1-513c-4fd0-d50f-3615a4e86811"
      },
      "outputs": [
        {
          "output_type": "stream",
          "name": "stdout",
          "text": [
            "[nltk_data] Downloading package stopwords to /root/nltk_data...\n",
            "[nltk_data]   Unzipping corpora/stopwords.zip.\n"
          ]
        }
      ],
      "source": [
        "import re\n",
        "import json\n",
        "import itertools\n",
        "import scipy as sp\n",
        "import numpy as np\n",
        "import pandas as pd\n",
        "import dask.bag as db\n",
        "import matplotlib.pyplot as plt\n",
        "from sklearn.utils import shuffle\n",
        "from sklearn.preprocessing import MultiLabelBinarizer\n",
        "from sklearn.feature_extraction.text import CountVectorizer\n",
        "from sklearn.feature_extraction.text import TfidfVectorizer\n",
        "from sklearn.feature_extraction.text import TfidfTransformer  \n",
        "from sklearn.decomposition import LatentDirichletAllocation\n",
        "from sklearn.metrics import accuracy_score, roc_curve, auc, hamming_loss\n",
        "from sklearn import datasets\n",
        "import scipy.cluster.hierarchy as hcluster\n",
        "from sklearn.feature_extraction.text import TfidfVectorizer\n",
        "import nltk\n",
        "nltk.download('stopwords')\n",
        "import jieba as jb\n",
        "import tensorflow as tf\n",
        "import torch"
      ]
    },
    {
      "cell_type": "markdown",
      "source": [
        "# 1. Setup"
      ],
      "metadata": {
        "id": "p-yjDRvPntkK"
      }
    },
    {
      "cell_type": "code",
      "source": [
        "# Get the GPU device name.\n",
        "device_name = tf.test.gpu_device_name()\n",
        "\n",
        "# The device name should look like the following:\n",
        "if device_name == '/device:GPU:0':\n",
        "    print('Found GPU at: {}'.format(device_name))\n",
        "else:\n",
        "    raise SystemError('GPU device not found')\n",
        "\n",
        "# If there's a GPU available...\n",
        "if torch.cuda.is_available():    \n",
        "\n",
        "    # Tell PyTorch to use the GPU.    \n",
        "    device = torch.device(\"cuda\")\n",
        "\n",
        "    print('There are %d GPU(s) available.' % torch.cuda.device_count())\n",
        "\n",
        "    print('We will use the GPU:', torch.cuda.get_device_name(0))\n",
        "\n",
        "# If not...\n",
        "else:\n",
        "    print('No GPU available, using the CPU instead.')\n",
        "    device = torch.device(\"cpu\")"
      ],
      "metadata": {
        "colab": {
          "base_uri": "https://localhost:8080/"
        },
        "id": "jiCoezmenoH2",
        "outputId": "4865aa67-24d3-4489-a8a5-ecbcd69caecb"
      },
      "execution_count": null,
      "outputs": [
        {
          "output_type": "stream",
          "name": "stdout",
          "text": [
            "Found GPU at: /device:GPU:0\n",
            "There are 1 GPU(s) available.\n",
            "We will use the GPU: Tesla P100-PCIE-16GB\n"
          ]
        }
      ]
    },
    {
      "cell_type": "markdown",
      "source": [
        "# 2. Load arXiv Dataset"
      ],
      "metadata": {
        "id": "uWGyzchInuiK"
      }
    },
    {
      "cell_type": "code",
      "source": [
        "import json\n",
        "token = {\"username\":\"karinmao\",\"key\":\"0145306b9df944a40f90e51f15167f9c\"}\n",
        "with open('/content/kaggle.json','w') as file:\n",
        "  json.dump(token,file)"
      ],
      "metadata": {
        "id": "Bbqfti3qnxz5"
      },
      "execution_count": null,
      "outputs": []
    },
    {
      "cell_type": "code",
      "source": [
        "!mkdir -p ~/.kaggle\n",
        "!cp /content/kaggle.json ~/.kaggle/\n",
        "!chmod 600 ~/.kaggle/kaggle.json\n",
        "!kaggle config set -n path -v /content\n",
        "!kaggle datasets download -d Cornell-University/arxiv\n",
        "!unzip -uq \"/content/datasets/Cornell-University/arxiv/arxiv.zip\" -d \"/content/datasets/Cornell-University/arxiv\""
      ],
      "metadata": {
        "colab": {
          "base_uri": "https://localhost:8080/"
        },
        "id": "xXpzlR7dn1YT",
        "outputId": "a8b4eb77-ccce-46ee-e706-41b806765f2d"
      },
      "execution_count": null,
      "outputs": [
        {
          "output_type": "stream",
          "name": "stdout",
          "text": [
            "- path is now set to: /content\n",
            "Downloading arxiv.zip to /content/datasets/Cornell-University/arxiv\n",
            " 99% 1.03G/1.05G [00:43<00:00, 32.6MB/s]\n",
            "100% 1.05G/1.05G [00:43<00:00, 26.1MB/s]\n"
          ]
        }
      ]
    },
    {
      "cell_type": "code",
      "source": [
        "# load data\n",
        "docs = db.read_text('/content/datasets/Cornell-University/arxiv/arxiv-metadata-oai-snapshot.json').map(json.loads)"
      ],
      "metadata": {
        "id": "9Fr7ZEIqn65C"
      },
      "execution_count": null,
      "outputs": []
    },
    {
      "cell_type": "code",
      "source": [
        "# define target year\n",
        "year = 1991\n",
        "\n",
        "# Submissions by datetime\n",
        "get_year = lambda x: x['versions'][-1]['created'].split(' ')[3]\n",
        "\n",
        "# get only necessary fields\n",
        "trim = lambda x: {'id': x['id'],\n",
        "                  'title': x['title'],\n",
        "                  'category':x['categories'].split(' '),\n",
        "                  'abstract':x['abstract'],\n",
        "                  'time':x['versions'][-1]['created'].split(' ')[3]}\n",
        "\n",
        "# filter for papers published on or after ????-01-01\n",
        "docs_df = (docs.filter(lambda x: int(get_year(x)) > (year-1))\n",
        "               .filter(lambda x: int(get_year(x)) < (year+1))\n",
        "               .map(trim)\n",
        "               .compute())\n",
        "\n",
        "# convert to pandas dataframe\n",
        "docs_df = pd.DataFrame(docs_df)\n",
        "\n",
        "# add main category: list\n",
        "docs_df['main_category'] = docs_df.category.apply(lambda x:[a.split('.')[0] for a in x][0].split())\n",
        "\n",
        "# add main category 2: not list\n",
        "docs_df['main_category2'] = docs_df.main_category.apply(lambda x: x[0])"
      ],
      "metadata": {
        "id": "_yrnOqPQn95i"
      },
      "execution_count": null,
      "outputs": []
    },
    {
      "cell_type": "code",
      "source": [
        "docs_df.info()"
      ],
      "metadata": {
        "colab": {
          "base_uri": "https://localhost:8080/"
        },
        "id": "fjF3lLy9XF6L",
        "outputId": "a8d8be5c-817d-46cd-e01a-dae327f89043"
      },
      "execution_count": null,
      "outputs": [
        {
          "output_type": "stream",
          "name": "stdout",
          "text": [
            "<class 'pandas.core.frame.DataFrame'>\n",
            "RangeIndex: 340 entries, 0 to 339\n",
            "Data columns (total 7 columns):\n",
            " #   Column          Non-Null Count  Dtype \n",
            "---  ------          --------------  ----- \n",
            " 0   id              340 non-null    object\n",
            " 1   title           340 non-null    object\n",
            " 2   category        340 non-null    object\n",
            " 3   abstract        340 non-null    object\n",
            " 4   time            340 non-null    object\n",
            " 5   main_category   340 non-null    object\n",
            " 6   main_category2  340 non-null    object\n",
            "dtypes: object(7)\n",
            "memory usage: 18.7+ KB\n"
          ]
        }
      ]
    },
    {
      "cell_type": "code",
      "source": [
        "dict = {'astro-ph': 9, 'cond-mat': 3, 'cs': 6, 'econ': 16, 'eess': 18, 'funct-an': 20, 'gr-qc': 11, 'hep-ex': 19, 'hep-lat': 15,\n",
        " 'hep-ph': 1,'hep-th': 4, 'math': 0, 'math-ph': 7, 'nlin': 10, 'nucl-ex': 12, 'nucl-th': 17, 'physics': 2, 'q-alg': 21,\n",
        " 'q-bio': 13, 'q-fin': 14, 'quant-ph': 5, 'stat': 8, 'alg-geom':22}\n",
        "\n",
        "dict2 = {'astro-ph': 9, 'cond-mat': 3, 'cs': 6, 'econ': 16, 'eess': 18, 'gr-qc': 11, 'hep-ex': 19, 'hep-lat': 15,\n",
        " 'hep-ph': 1,'hep-th': 4, 'math': 0, 'math-ph': 7, 'nlin': 10, 'nucl-ex': 12, 'nucl-th': 17, 'physics': 2,\n",
        " 'q-bio': 13, 'q-fin': 14, 'quant-ph': 5, 'stat': 8}\n",
        "\n",
        "iv_dict = {v: k for k, v in dict.items()}"
      ],
      "metadata": {
        "id": "Or-7vw46_xre"
      },
      "execution_count": null,
      "outputs": []
    },
    {
      "cell_type": "code",
      "source": [
        "# remove patterns\n",
        "pattern = u'[\\\\s\\\\d,.<>/?:;\\'\\\"[\\\\]{}()\\\\|~!\\t\"@#$%^&*\\\\-_=+\\n《》、？：；“”‘’｛}（）…￥！—┄－]+'\n",
        "docs_df['cut'] = (docs_df['abstract']\n",
        "                    .apply(lambda x: str(x))\n",
        "                    .apply(lambda x: re.sub(pattern, ' ', x)))\n",
        "# define stopwords\n",
        "stopwords = nltk.corpus.stopwords.words(\"english\")\n",
        "\n",
        "# remove stopwords\n",
        "docs_df['cut2'] = docs_df['cut'].apply(lambda x: \" \".join([w for w in list(jb.cut(x)) if w not in stopwords]))"
      ],
      "metadata": {
        "id": "OkbhauxCyn1w"
      },
      "execution_count": null,
      "outputs": []
    },
    {
      "cell_type": "code",
      "source": [
        "docs_df.head()"
      ],
      "metadata": {
        "colab": {
          "base_uri": "https://localhost:8080/",
          "height": 441
        },
        "id": "qPJ65kuAzCBd",
        "outputId": "9baa27c6-c57c-432b-d287-0d527e2e1608"
      },
      "execution_count": null,
      "outputs": [
        {
          "output_type": "execute_result",
          "data": {
            "text/plain": [
              "               id                                             title  category  \\\n",
              "0      cs/9301113                    Textbook examples of recursion   [cs.CC]   \n",
              "1      cs/9301114                               Theory and practice   [cs.GL]   \n",
              "2      cs/9301115                       Context-free multilanguages   [cs.DS]   \n",
              "3  hep-th/9108001  Exact Black String Solutions in Three Dimensions  [hep-th]   \n",
              "4  hep-th/9108002     Hamiltonian construction of W-gravity actions  [hep-th]   \n",
              "\n",
              "                                            abstract  time main_category  \\\n",
              "0    We discuss properties of recursive schemas r...  1991          [cs]   \n",
              "1    The author argues to Silicon Valley that the...  1991          [cs]   \n",
              "2    This article is a sketch of ideas that were ...  1991          [cs]   \n",
              "3    A family of exact conformal field theories i...  1991      [hep-th]   \n",
              "4    We show that all W-gravity actions can be ea...  1991      [hep-th]   \n",
              "\n",
              "  main_category2                                                cut  \\\n",
              "0             cs   We discuss properties of recursive schemas re...   \n",
              "1             cs   The author argues to Silicon Valley that the ...   \n",
              "2             cs   This article is a sketch of ideas that were o...   \n",
              "3         hep-th   A family of exact conformal field theories is...   \n",
              "4         hep-th   We show that all W gravity actions can be eas...   \n",
              "\n",
              "                                                cut2  \n",
              "0    We   discuss   properties     recursive   sc...  \n",
              "1    The   author   argues     Silicon   Valley  ...  \n",
              "2    This   article       sketch     ideas       ...  \n",
              "3    A   family     exact   conformal   field   t...  \n",
              "4    We   show       W   gravity   actions       ...  "
            ],
            "text/html": [
              "\n",
              "  <div id=\"df-75c9d01a-6313-4f78-9e19-e2a25936a1ac\">\n",
              "    <div class=\"colab-df-container\">\n",
              "      <div>\n",
              "<style scoped>\n",
              "    .dataframe tbody tr th:only-of-type {\n",
              "        vertical-align: middle;\n",
              "    }\n",
              "\n",
              "    .dataframe tbody tr th {\n",
              "        vertical-align: top;\n",
              "    }\n",
              "\n",
              "    .dataframe thead th {\n",
              "        text-align: right;\n",
              "    }\n",
              "</style>\n",
              "<table border=\"1\" class=\"dataframe\">\n",
              "  <thead>\n",
              "    <tr style=\"text-align: right;\">\n",
              "      <th></th>\n",
              "      <th>id</th>\n",
              "      <th>title</th>\n",
              "      <th>category</th>\n",
              "      <th>abstract</th>\n",
              "      <th>time</th>\n",
              "      <th>main_category</th>\n",
              "      <th>main_category2</th>\n",
              "      <th>cut</th>\n",
              "      <th>cut2</th>\n",
              "    </tr>\n",
              "  </thead>\n",
              "  <tbody>\n",
              "    <tr>\n",
              "      <th>0</th>\n",
              "      <td>cs/9301113</td>\n",
              "      <td>Textbook examples of recursion</td>\n",
              "      <td>[cs.CC]</td>\n",
              "      <td>We discuss properties of recursive schemas r...</td>\n",
              "      <td>1991</td>\n",
              "      <td>[cs]</td>\n",
              "      <td>cs</td>\n",
              "      <td>We discuss properties of recursive schemas re...</td>\n",
              "      <td>We   discuss   properties     recursive   sc...</td>\n",
              "    </tr>\n",
              "    <tr>\n",
              "      <th>1</th>\n",
              "      <td>cs/9301114</td>\n",
              "      <td>Theory and practice</td>\n",
              "      <td>[cs.GL]</td>\n",
              "      <td>The author argues to Silicon Valley that the...</td>\n",
              "      <td>1991</td>\n",
              "      <td>[cs]</td>\n",
              "      <td>cs</td>\n",
              "      <td>The author argues to Silicon Valley that the ...</td>\n",
              "      <td>The   author   argues     Silicon   Valley  ...</td>\n",
              "    </tr>\n",
              "    <tr>\n",
              "      <th>2</th>\n",
              "      <td>cs/9301115</td>\n",
              "      <td>Context-free multilanguages</td>\n",
              "      <td>[cs.DS]</td>\n",
              "      <td>This article is a sketch of ideas that were ...</td>\n",
              "      <td>1991</td>\n",
              "      <td>[cs]</td>\n",
              "      <td>cs</td>\n",
              "      <td>This article is a sketch of ideas that were o...</td>\n",
              "      <td>This   article       sketch     ideas       ...</td>\n",
              "    </tr>\n",
              "    <tr>\n",
              "      <th>3</th>\n",
              "      <td>hep-th/9108001</td>\n",
              "      <td>Exact Black String Solutions in Three Dimensions</td>\n",
              "      <td>[hep-th]</td>\n",
              "      <td>A family of exact conformal field theories i...</td>\n",
              "      <td>1991</td>\n",
              "      <td>[hep-th]</td>\n",
              "      <td>hep-th</td>\n",
              "      <td>A family of exact conformal field theories is...</td>\n",
              "      <td>A   family     exact   conformal   field   t...</td>\n",
              "    </tr>\n",
              "    <tr>\n",
              "      <th>4</th>\n",
              "      <td>hep-th/9108002</td>\n",
              "      <td>Hamiltonian construction of W-gravity actions</td>\n",
              "      <td>[hep-th]</td>\n",
              "      <td>We show that all W-gravity actions can be ea...</td>\n",
              "      <td>1991</td>\n",
              "      <td>[hep-th]</td>\n",
              "      <td>hep-th</td>\n",
              "      <td>We show that all W gravity actions can be eas...</td>\n",
              "      <td>We   show       W   gravity   actions       ...</td>\n",
              "    </tr>\n",
              "  </tbody>\n",
              "</table>\n",
              "</div>\n",
              "      <button class=\"colab-df-convert\" onclick=\"convertToInteractive('df-75c9d01a-6313-4f78-9e19-e2a25936a1ac')\"\n",
              "              title=\"Convert this dataframe to an interactive table.\"\n",
              "              style=\"display:none;\">\n",
              "        \n",
              "  <svg xmlns=\"http://www.w3.org/2000/svg\" height=\"24px\"viewBox=\"0 0 24 24\"\n",
              "       width=\"24px\">\n",
              "    <path d=\"M0 0h24v24H0V0z\" fill=\"none\"/>\n",
              "    <path d=\"M18.56 5.44l.94 2.06.94-2.06 2.06-.94-2.06-.94-.94-2.06-.94 2.06-2.06.94zm-11 1L8.5 8.5l.94-2.06 2.06-.94-2.06-.94L8.5 2.5l-.94 2.06-2.06.94zm10 10l.94 2.06.94-2.06 2.06-.94-2.06-.94-.94-2.06-.94 2.06-2.06.94z\"/><path d=\"M17.41 7.96l-1.37-1.37c-.4-.4-.92-.59-1.43-.59-.52 0-1.04.2-1.43.59L10.3 9.45l-7.72 7.72c-.78.78-.78 2.05 0 2.83L4 21.41c.39.39.9.59 1.41.59.51 0 1.02-.2 1.41-.59l7.78-7.78 2.81-2.81c.8-.78.8-2.07 0-2.86zM5.41 20L4 18.59l7.72-7.72 1.47 1.35L5.41 20z\"/>\n",
              "  </svg>\n",
              "      </button>\n",
              "      \n",
              "  <style>\n",
              "    .colab-df-container {\n",
              "      display:flex;\n",
              "      flex-wrap:wrap;\n",
              "      gap: 12px;\n",
              "    }\n",
              "\n",
              "    .colab-df-convert {\n",
              "      background-color: #E8F0FE;\n",
              "      border: none;\n",
              "      border-radius: 50%;\n",
              "      cursor: pointer;\n",
              "      display: none;\n",
              "      fill: #1967D2;\n",
              "      height: 32px;\n",
              "      padding: 0 0 0 0;\n",
              "      width: 32px;\n",
              "    }\n",
              "\n",
              "    .colab-df-convert:hover {\n",
              "      background-color: #E2EBFA;\n",
              "      box-shadow: 0px 1px 2px rgba(60, 64, 67, 0.3), 0px 1px 3px 1px rgba(60, 64, 67, 0.15);\n",
              "      fill: #174EA6;\n",
              "    }\n",
              "\n",
              "    [theme=dark] .colab-df-convert {\n",
              "      background-color: #3B4455;\n",
              "      fill: #D2E3FC;\n",
              "    }\n",
              "\n",
              "    [theme=dark] .colab-df-convert:hover {\n",
              "      background-color: #434B5C;\n",
              "      box-shadow: 0px 1px 3px 1px rgba(0, 0, 0, 0.15);\n",
              "      filter: drop-shadow(0px 1px 2px rgba(0, 0, 0, 0.3));\n",
              "      fill: #FFFFFF;\n",
              "    }\n",
              "  </style>\n",
              "\n",
              "      <script>\n",
              "        const buttonEl =\n",
              "          document.querySelector('#df-75c9d01a-6313-4f78-9e19-e2a25936a1ac button.colab-df-convert');\n",
              "        buttonEl.style.display =\n",
              "          google.colab.kernel.accessAllowed ? 'block' : 'none';\n",
              "\n",
              "        async function convertToInteractive(key) {\n",
              "          const element = document.querySelector('#df-75c9d01a-6313-4f78-9e19-e2a25936a1ac');\n",
              "          const dataTable =\n",
              "            await google.colab.kernel.invokeFunction('convertToInteractive',\n",
              "                                                     [key], {});\n",
              "          if (!dataTable) return;\n",
              "\n",
              "          const docLinkHtml = 'Like what you see? Visit the ' +\n",
              "            '<a target=\"_blank\" href=https://colab.research.google.com/notebooks/data_table.ipynb>data table notebook</a>'\n",
              "            + ' to learn more about interactive tables.';\n",
              "          element.innerHTML = '';\n",
              "          dataTable['output_type'] = 'display_data';\n",
              "          await google.colab.output.renderOutput(dataTable, element);\n",
              "          const docLink = document.createElement('div');\n",
              "          docLink.innerHTML = docLinkHtml;\n",
              "          element.appendChild(docLink);\n",
              "        }\n",
              "      </script>\n",
              "    </div>\n",
              "  </div>\n",
              "  "
            ]
          },
          "metadata": {},
          "execution_count": 68
        }
      ]
    },
    {
      "cell_type": "code",
      "source": [
        "d = {'cat':docs_df['main_category2'].value_counts().index, 'count': docs_df['main_category2'].value_counts()}\n",
        "df_cat = pd.DataFrame(data=d).reset_index(drop=True)\n",
        "num_labels = len(df_cat)\n",
        "# plot samples - categories\n",
        "df_cat.plot('cat','count',kind='bar')\n",
        "plt.xlabel('Categories')\n",
        "plt.ylabel('Number of samples')\n",
        "plt.title('year = %s'%(year))"
      ],
      "metadata": {
        "colab": {
          "base_uri": "https://localhost:8080/",
          "height": 336
        },
        "id": "hQ5sXstUJmGO",
        "outputId": "d0265edf-4d83-4a07-a2e2-02e475d6515e"
      },
      "execution_count": null,
      "outputs": [
        {
          "output_type": "execute_result",
          "data": {
            "text/plain": [
              "Text(0.5, 1.0, 'year = 1991')"
            ]
          },
          "metadata": {},
          "execution_count": 69
        },
        {
          "output_type": "display_data",
          "data": {
            "text/plain": [
              "<Figure size 432x288 with 1 Axes>"
            ],
            "image/png": "[encoded data removed]"
          },
          "metadata": {
            "needs_background": "light"
          }
        }
      ]
    },
    {
      "cell_type": "code",
      "source": [
        "id_list = df_cat['cat'].map(dict).dropna(axis=0,how='any').tolist()\n",
        "cat_list = df_cat['cat'].map(dict).dropna(axis=0,how='any').map(iv_dict).tolist()\n",
        "cat_list"
      ],
      "metadata": {
        "colab": {
          "base_uri": "https://localhost:8080/"
        },
        "id": "LGfL40NOKJbz",
        "outputId": "03f6bf22-711e-4c97-ecdd-3fd779432bf2"
      },
      "execution_count": null,
      "outputs": [
        {
          "output_type": "execute_result",
          "data": {
            "text/plain": [
              "['hep-th', 'math', 'cs']"
            ]
          },
          "metadata": {},
          "execution_count": 70
        }
      ]
    },
    {
      "cell_type": "code",
      "source": [
        "# cat tansfer to id\n",
        "docs_df['cat_id'] = docs_df['main_category2'].map(dict)"
      ],
      "metadata": {
        "id": "NathALJz_8O_"
      },
      "execution_count": null,
      "outputs": []
    },
    {
      "cell_type": "code",
      "source": [
        "docs_df.head()"
      ],
      "metadata": {
        "colab": {
          "base_uri": "https://localhost:8080/",
          "height": 493
        },
        "id": "2nTRMu8cMBMQ",
        "outputId": "edbbebd3-8f9e-4ffa-eae3-12e6a40272c5"
      },
      "execution_count": null,
      "outputs": [
        {
          "output_type": "execute_result",
          "data": {
            "text/plain": [
              "               id                                             title  category  \\\n",
              "0      cs/9301113                    Textbook examples of recursion   [cs.CC]   \n",
              "1      cs/9301114                               Theory and practice   [cs.GL]   \n",
              "2      cs/9301115                       Context-free multilanguages   [cs.DS]   \n",
              "3  hep-th/9108001  Exact Black String Solutions in Three Dimensions  [hep-th]   \n",
              "4  hep-th/9108002     Hamiltonian construction of W-gravity actions  [hep-th]   \n",
              "\n",
              "                                            abstract  time main_category  \\\n",
              "0    We discuss properties of recursive schemas r...  1991          [cs]   \n",
              "1    The author argues to Silicon Valley that the...  1991          [cs]   \n",
              "2    This article is a sketch of ideas that were ...  1991          [cs]   \n",
              "3    A family of exact conformal field theories i...  1991      [hep-th]   \n",
              "4    We show that all W-gravity actions can be ea...  1991      [hep-th]   \n",
              "\n",
              "  main_category2                                                cut  \\\n",
              "0             cs   We discuss properties of recursive schemas re...   \n",
              "1             cs   The author argues to Silicon Valley that the ...   \n",
              "2             cs   This article is a sketch of ideas that were o...   \n",
              "3         hep-th   A family of exact conformal field theories is...   \n",
              "4         hep-th   We show that all W gravity actions can be eas...   \n",
              "\n",
              "                                                cut2  cat_id  \n",
              "0    We   discuss   properties     recursive   sc...       6  \n",
              "1    The   author   argues     Silicon   Valley  ...       6  \n",
              "2    This   article       sketch     ideas       ...       6  \n",
              "3    A   family     exact   conformal   field   t...       4  \n",
              "4    We   show       W   gravity   actions       ...       4  "
            ],
            "text/html": [
              "\n",
              "  <div id=\"df-6652999d-c66b-45a4-9ce5-4b394f6f69ad\">\n",
              "    <div class=\"colab-df-container\">\n",
              "      <div>\n",
              "<style scoped>\n",
              "    .dataframe tbody tr th:only-of-type {\n",
              "        vertical-align: middle;\n",
              "    }\n",
              "\n",
              "    .dataframe tbody tr th {\n",
              "        vertical-align: top;\n",
              "    }\n",
              "\n",
              "    .dataframe thead th {\n",
              "        text-align: right;\n",
              "    }\n",
              "</style>\n",
              "<table border=\"1\" class=\"dataframe\">\n",
              "  <thead>\n",
              "    <tr style=\"text-align: right;\">\n",
              "      <th></th>\n",
              "      <th>id</th>\n",
              "      <th>title</th>\n",
              "      <th>category</th>\n",
              "      <th>abstract</th>\n",
              "      <th>time</th>\n",
              "      <th>main_category</th>\n",
              "      <th>main_category2</th>\n",
              "      <th>cut</th>\n",
              "      <th>cut2</th>\n",
              "      <th>cat_id</th>\n",
              "    </tr>\n",
              "  </thead>\n",
              "  <tbody>\n",
              "    <tr>\n",
              "      <th>0</th>\n",
              "      <td>cs/9301113</td>\n",
              "      <td>Textbook examples of recursion</td>\n",
              "      <td>[cs.CC]</td>\n",
              "      <td>We discuss properties of recursive schemas r...</td>\n",
              "      <td>1991</td>\n",
              "      <td>[cs]</td>\n",
              "      <td>cs</td>\n",
              "      <td>We discuss properties of recursive schemas re...</td>\n",
              "      <td>We   discuss   properties     recursive   sc...</td>\n",
              "      <td>6</td>\n",
              "    </tr>\n",
              "    <tr>\n",
              "      <th>1</th>\n",
              "      <td>cs/9301114</td>\n",
              "      <td>Theory and practice</td>\n",
              "      <td>[cs.GL]</td>\n",
              "      <td>The author argues to Silicon Valley that the...</td>\n",
              "      <td>1991</td>\n",
              "      <td>[cs]</td>\n",
              "      <td>cs</td>\n",
              "      <td>The author argues to Silicon Valley that the ...</td>\n",
              "      <td>The   author   argues     Silicon   Valley  ...</td>\n",
              "      <td>6</td>\n",
              "    </tr>\n",
              "    <tr>\n",
              "      <th>2</th>\n",
              "      <td>cs/9301115</td>\n",
              "      <td>Context-free multilanguages</td>\n",
              "      <td>[cs.DS]</td>\n",
              "      <td>This article is a sketch of ideas that were ...</td>\n",
              "      <td>1991</td>\n",
              "      <td>[cs]</td>\n",
              "      <td>cs</td>\n",
              "      <td>This article is a sketch of ideas that were o...</td>\n",
              "      <td>This   article       sketch     ideas       ...</td>\n",
              "      <td>6</td>\n",
              "    </tr>\n",
              "    <tr>\n",
              "      <th>3</th>\n",
              "      <td>hep-th/9108001</td>\n",
              "      <td>Exact Black String Solutions in Three Dimensions</td>\n",
              "      <td>[hep-th]</td>\n",
              "      <td>A family of exact conformal field theories i...</td>\n",
              "      <td>1991</td>\n",
              "      <td>[hep-th]</td>\n",
              "      <td>hep-th</td>\n",
              "      <td>A family of exact conformal field theories is...</td>\n",
              "      <td>A   family     exact   conformal   field   t...</td>\n",
              "      <td>4</td>\n",
              "    </tr>\n",
              "    <tr>\n",
              "      <th>4</th>\n",
              "      <td>hep-th/9108002</td>\n",
              "      <td>Hamiltonian construction of W-gravity actions</td>\n",
              "      <td>[hep-th]</td>\n",
              "      <td>We show that all W-gravity actions can be ea...</td>\n",
              "      <td>1991</td>\n",
              "      <td>[hep-th]</td>\n",
              "      <td>hep-th</td>\n",
              "      <td>We show that all W gravity actions can be eas...</td>\n",
              "      <td>We   show       W   gravity   actions       ...</td>\n",
              "      <td>4</td>\n",
              "    </tr>\n",
              "  </tbody>\n",
              "</table>\n",
              "</div>\n",
              "      <button class=\"colab-df-convert\" onclick=\"convertToInteractive('df-6652999d-c66b-45a4-9ce5-4b394f6f69ad')\"\n",
              "              title=\"Convert this dataframe to an interactive table.\"\n",
              "              style=\"display:none;\">\n",
              "        \n",
              "  <svg xmlns=\"http://www.w3.org/2000/svg\" height=\"24px\"viewBox=\"0 0 24 24\"\n",
              "       width=\"24px\">\n",
              "    <path d=\"M0 0h24v24H0V0z\" fill=\"none\"/>\n",
              "    <path d=\"M18.56 5.44l.94 2.06.94-2.06 2.06-.94-2.06-.94-.94-2.06-.94 2.06-2.06.94zm-11 1L8.5 8.5l.94-2.06 2.06-.94-2.06-.94L8.5 2.5l-.94 2.06-2.06.94zm10 10l.94 2.06.94-2.06 2.06-.94-2.06-.94-.94-2.06-.94 2.06-2.06.94z\"/><path d=\"M17.41 7.96l-1.37-1.37c-.4-.4-.92-.59-1.43-.59-.52 0-1.04.2-1.43.59L10.3 9.45l-7.72 7.72c-.78.78-.78 2.05 0 2.83L4 21.41c.39.39.9.59 1.41.59.51 0 1.02-.2 1.41-.59l7.78-7.78 2.81-2.81c.8-.78.8-2.07 0-2.86zM5.41 20L4 18.59l7.72-7.72 1.47 1.35L5.41 20z\"/>\n",
              "  </svg>\n",
              "      </button>\n",
              "      \n",
              "  <style>\n",
              "    .colab-df-container {\n",
              "      display:flex;\n",
              "      flex-wrap:wrap;\n",
              "      gap: 12px;\n",
              "    }\n",
              "\n",
              "    .colab-df-convert {\n",
              "      background-color: #E8F0FE;\n",
              "      border: none;\n",
              "      border-radius: 50%;\n",
              "      cursor: pointer;\n",
              "      display: none;\n",
              "      fill: #1967D2;\n",
              "      height: 32px;\n",
              "      padding: 0 0 0 0;\n",
              "      width: 32px;\n",
              "    }\n",
              "\n",
              "    .colab-df-convert:hover {\n",
              "      background-color: #E2EBFA;\n",
              "      box-shadow: 0px 1px 2px rgba(60, 64, 67, 0.3), 0px 1px 3px 1px rgba(60, 64, 67, 0.15);\n",
              "      fill: #174EA6;\n",
              "    }\n",
              "\n",
              "    [theme=dark] .colab-df-convert {\n",
              "      background-color: #3B4455;\n",
              "      fill: #D2E3FC;\n",
              "    }\n",
              "\n",
              "    [theme=dark] .colab-df-convert:hover {\n",
              "      background-color: #434B5C;\n",
              "      box-shadow: 0px 1px 3px 1px rgba(0, 0, 0, 0.15);\n",
              "      filter: drop-shadow(0px 1px 2px rgba(0, 0, 0, 0.3));\n",
              "      fill: #FFFFFF;\n",
              "    }\n",
              "  </style>\n",
              "\n",
              "      <script>\n",
              "        const buttonEl =\n",
              "          document.querySelector('#df-6652999d-c66b-45a4-9ce5-4b394f6f69ad button.colab-df-convert');\n",
              "        buttonEl.style.display =\n",
              "          google.colab.kernel.accessAllowed ? 'block' : 'none';\n",
              "\n",
              "        async function convertToInteractive(key) {\n",
              "          const element = document.querySelector('#df-6652999d-c66b-45a4-9ce5-4b394f6f69ad');\n",
              "          const dataTable =\n",
              "            await google.colab.kernel.invokeFunction('convertToInteractive',\n",
              "                                                     [key], {});\n",
              "          if (!dataTable) return;\n",
              "\n",
              "          const docLinkHtml = 'Like what you see? Visit the ' +\n",
              "            '<a target=\"_blank\" href=https://colab.research.google.com/notebooks/data_table.ipynb>data table notebook</a>'\n",
              "            + ' to learn more about interactive tables.';\n",
              "          element.innerHTML = '';\n",
              "          dataTable['output_type'] = 'display_data';\n",
              "          await google.colab.output.renderOutput(dataTable, element);\n",
              "          const docLink = document.createElement('div');\n",
              "          docLink.innerHTML = docLinkHtml;\n",
              "          element.appendChild(docLink);\n",
              "        }\n",
              "      </script>\n",
              "    </div>\n",
              "  </div>\n",
              "  "
            ]
          },
          "metadata": {},
          "execution_count": 72
        }
      ]
    },
    {
      "cell_type": "code",
      "source": [
        "def Hierarchical_clustering(year, docs_df, corpus, features):\n",
        "\n",
        "    tr_ = TfidfVectorizer(max_features = features)\n",
        "    tfidf = tr_.fit_transform(corpus).toarray()\n",
        "\n",
        "    names = locals()\n",
        "    for i in id_list:\n",
        "        names['tfidf_' + str(i) ] = np.mean(tfidf[docs_df[docs_df['cat_id'] == i].index],axis=0)\n",
        "        if i == id_list[0]:\n",
        "            dis_mat = names['tfidf_' + str(i) ]\n",
        "        if i != id_list[0]:\n",
        "            dis_mat = np.vstack((dis_mat, names['tfidf_' + str(i) ]))\n",
        "\n",
        "    frame = pd.DataFrame(dis_mat, index = cat_list)\n",
        "\n",
        "    # Compute and plot first dendrogram.\n",
        "    plt.figure(figsize=(10, 4), dpi=300)\n",
        "    linkage = hcluster.linkage(dis_mat, method ='ward', metric='euclidean')\n",
        "    hcluster.dendrogram(linkage,  leaf_font_size=6.5,labels=frame.index)\n",
        "    p = hcluster.fcluster(linkage, 10, criterion='maxclust')\n",
        "    plt.title('Hierarchical clustering on the test set (year = %s, features = %s)'%(year, features))\n",
        "    plt.ylabel('distance')\n",
        "\n",
        "Hierarchical_clustering(year, docs_df, docs_df['cut2'], 100)\n"
      ],
      "metadata": {
        "colab": {
          "base_uri": "https://localhost:8080/",
          "height": 465
        },
        "id": "FbK4lbHbkrYf",
        "outputId": "8d5c4bf3-5556-492b-e2d5-7d821684d6d2"
      },
      "execution_count": null,
      "outputs": [
        {
          "output_type": "display_data",
          "data": {
            "text/plain": [
              "<Figure size 3000x1200 with 1 Axes>"
            ],
            "image/png": "[encoded data removed]"
          },
          "metadata": {
            "needs_background": "light"
          }
        }
      ]
    }
  ]
}